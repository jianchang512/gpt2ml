{
  "cells": [
    {
      "cell_type": "markdown",
      "metadata": {
        "id": "view-in-github",
        "colab_type": "text"
      },
      "source": [
        "<a href=\"https://colab.research.google.com/github/jianchang512/gpt2ml/blob/main/gpt2_ml%E4%BD%BF%E7%94%A8.ipynb\" target=\"_parent\"><img src=\"https://colab.research.google.com/assets/colab-badge.svg\" alt=\"Open In Colab\"/></a>"
      ]
    },
    {
      "cell_type": "code",
      "source": [
        "# 首先授权硬盘\n",
        "from google.colab import drive\n",
        "#挂载到drive节点\n",
        "drive.mount('/content/drive/')\n"
      ],
      "metadata": {
        "id": "E2S2_3Pf1IuE"
      },
      "execution_count": null,
      "outputs": []
    },
    {
      "cell_type": "code",
      "source": [
        "# git 拉取\n",
        "!mkdir -p /content/drive/MyDrive/torchml/\n",
        "%cd /content/drive/MyDrive/torchml/\n",
        "!git clone -q https://github.com/imcaspar/gpt2-ml .\n",
        "!mkdir -p /content/drive/MyDrive/torchml/models/mega\n",
        "import os\n",
        "os.chdir('/content/drive/MyDrive/torchml')\n",
        "os.listdir('.')\n"
      ],
      "metadata": {
        "id": "u-2kPYC41R5p"
      },
      "execution_count": null,
      "outputs": []
    },
    {
      "cell_type": "code",
      "source": [
        "#下载数据集\n",
        "!perl 3rd/gdown.pl/gdown.pl https://drive.google.com/open?id=1mT_qCQg4AWnAXTwKfsyyRWCRpgPrBJS3 models/mega/model.ckpt-220000.data-00000-of-00001\n",
        "!wget -q --show-progress https://github.com/imcaspar/gpt2-ml/releases/download/v1.0/model.ckpt-220000.index -P models/mega\n",
        "\n",
        "!wget -q --show-progress https://github.com/imcaspar/gpt2-ml/releases/download/v1.0/model.ckpt-220000.meta -P models/mega\n"
      ],
      "metadata": {
        "id": "gdo1egu53WKE"
      },
      "execution_count": null,
      "outputs": []
    },
    {
      "cell_type": "code",
      "source": [
        "#安装\n",
        "!pip install -I tensorflow-gpu==1.15.4 &> tmp.log\n"
      ],
      "metadata": {
        "id": "ChjOfIc_2k8u"
      },
      "execution_count": null,
      "outputs": []
    },
    {
      "cell_type": "code",
      "source": [
        "min_len = 150#@param {type:\"number\", min:5, max:1024, step:1}\n",
        "sp_num = 5#@param {type:\"number\", min:1, max:50, step:1}\n"
      ],
      "metadata": {
        "id": "ZbSuqQVK3rBK"
      },
      "execution_count": null,
      "outputs": []
    },
    {
      "cell_type": "code",
      "source": [
        "# 执行生成命令\n",
        "!PYTHONPATH=$(pwd) python scripts/demo.py -ckpt_fn models/mega/model.ckpt-220000 -min_len $min_len -samples $sp_num\n"
      ],
      "metadata": {
        "id": "zRp1mH6Y38AX"
      },
      "execution_count": null,
      "outputs": []
    }
  ],
  "metadata": {
    "colab": {
      "collapsed_sections": [],
      "name": "gpt2-ml使用",
      "provenance": [],
      "include_colab_link": true
    },
    "kernelspec": {
      "display_name": "Python 3",
      "name": "python3"
    },
    "accelerator": "GPU"
  },
  "nbformat": 4,
  "nbformat_minor": 0
}